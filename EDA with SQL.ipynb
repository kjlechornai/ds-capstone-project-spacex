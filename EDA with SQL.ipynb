{
    "cells": [
        {
            "cell_type": "markdown",
            "metadata": {},
            "source": "<center>\n    <img src=\"https://gitlab.com/ibm/skills-network/courses/placeholder101/-/raw/master/labs/module%201/images/IDSNlogo.png\"  width=\"300\" alt=\"cognitiveclass.ai logo\"  />\n</center>\n\n<h1 align=center><font size = 5>Assignment: SQL Notebook for Peer Assignment</font></h1>\n\nEstimated time needed: **60** minutes.\n\n## Introduction\n\nUsing this Python notebook you will:\n\n1.  Understand the Spacex DataSet\n2.  Load the dataset  into the corresponding table in a Db2 database\n3.  Execute SQL queries to answer assignment questions\n"
        },
        {
            "cell_type": "markdown",
            "metadata": {},
            "source": "## Overview of the DataSet\n\nSpaceX has gained worldwide attention for a series of historic milestones.\n\nIt is the only private company ever to return a spacecraft from low-earth orbit, which it first accomplished in December 2010.\nSpaceX advertises Falcon 9 rocket launches on its website with a cost of 62 million dollars wheras other providers cost upward of 165 million dollars each, much of the savings is because Space X can reuse the first stage.\n\nTherefore if we can determine if the first stage will land, we can determine the cost of a launch.\n\nThis information can be used if an alternate company wants to bid against SpaceX for a rocket launch.\n\nThis dataset includes a record for each payload carried during a SpaceX mission into outer space.\n"
        },
        {
            "cell_type": "markdown",
            "metadata": {},
            "source": "### Download the datasets\n\nThis assignment requires you to load the spacex dataset.\n\nIn many cases the dataset to be analyzed is available as a .CSV (comma separated values) file, perhaps on the internet. Click on the link below to download and save the dataset (.CSV file):\n\n<a href=\"https://cf-courses-data.s3.us.cloud-object-storage.appdomain.cloud/IBM-DS0321EN-SkillsNetwork/labs/module_2/data/Spacex.csv?utm_medium=Exinfluencer&utm_source=Exinfluencer&utm_content=000026UJ&utm_term=10006555&utm_id=NA-SkillsNetwork-Channel-SkillsNetworkCoursesIBMDS0321ENSkillsNetwork26802033-2021-01-01\" target=\"_blank\">Spacex DataSet</a>\n"
        },
        {
            "cell_type": "markdown",
            "metadata": {},
            "source": "### Store the dataset in database table\n\n**it is highly recommended to manually load the table using the database console LOAD tool in DB2**.\n\n<img src = \"https://cf-courses-data.s3.us.cloud-object-storage.appdomain.cloud/IBM-DS0321EN-SkillsNetwork/labs/module_2/images/spacexload.png\">\n\nNow open the Db2 console, open the LOAD tool, Select / Drag the .CSV file for the  dataset, Next create a New Table, and then follow the steps on-screen instructions to load the data. Name the new table as follows:\n\n**SPACEXDATASET**\n\n**Follow these steps while using old DB2 UI which is having Open Console Screen**\n\n**Note:While loading Spacex dataset, ensure that detect datatypes is disabled. Later click on the pencil icon(edit option).**\n\n1.  Change the Date Format by manually typing DD-MM-YYYY and timestamp format as DD-MM-YYYY HH\\:MM:SS\n\n2.  Change the PAYLOAD_MASS\\_\\_KG\\_  datatype  to INTEGER.\n\n<img src = \"https://cf-courses-data.s3.us.cloud-object-storage.appdomain.cloud/IBM-DS0321EN-SkillsNetwork/labs/module_2/images/spacexload2.png\">\n"
        },
        {
            "cell_type": "markdown",
            "metadata": {},
            "source": "**Changes to be considered when having DB2 instance with the new UI having Go to UI screen**\n\n*   Refer to this insruction in this <a href=\"https://cf-courses-data.s3.us.cloud-object-storage.appdomain.cloud/IBMDeveloperSkillsNetwork-DB0201EN-SkillsNetwork/labs/Labs_Coursera_V5/labs/Lab%20-%20Sign%20up%20for%20IBM%20Cloud%20-%20Create%20Db2%20service%20instance%20-%20Get%20started%20with%20the%20Db2%20console/instructional-labs.md.html?utm_medium=Exinfluencer&utm_source=Exinfluencer&utm_content=000026UJ&utm_term=10006555&utm_id=NA-SkillsNetwork-Channel-SkillsNetworkCoursesIBMDS0321ENSkillsNetwork26802033-2021-01-01\">link</a> for viewing  the new  Go to UI screen.\n\n*   Later click on **Data link(below SQL)**  in the Go to UI screen  and click on **Load Data** tab.\n\n*   Later browse for the downloaded spacex file.\n\n<img src=\"https://cf-courses-data.s3.us.cloud-object-storage.appdomain.cloud/IBM-DS0321EN-SkillsNetwork/labs/module_2/images/browsefile.png\" width=\"800\"/>\n\n*   Once done select the schema andload the file.\n\n <img src=\"https://cf-courses-data.s3.us.cloud-object-storage.appdomain.cloud/IBM-DS0321EN-SkillsNetwork/labs/module_2/images/spacexload3.png\" width=\"800\"/>\n"
        },
        {
            "cell_type": "code",
            "execution_count": 1,
            "metadata": {},
            "outputs": [
                {
                    "name": "stdout",
                    "output_type": "stream",
                    "text": "Requirement already satisfied: sqlalchemy==1.3.9 in /opt/conda/envs/Python-3.8-main/lib/python3.8/site-packages (1.3.9)\nRequirement already satisfied: ibm_db_sa in /opt/conda/envs/Python-3.8-main/lib/python3.8/site-packages (0.3.7)\nRequirement already satisfied: sqlalchemy>=0.7.3 in /opt/conda/envs/Python-3.8-main/lib/python3.8/site-packages (from ibm_db_sa) (1.3.9)\nRequirement already satisfied: ibm-db>=2.0.0 in /opt/conda/envs/Python-3.8-main/lib/python3.8/site-packages (from ibm_db_sa) (3.0.4)\n"
                }
            ],
            "source": "!pip install sqlalchemy==1.3.9\n!pip install ibm_db_sa"
        },
        {
            "cell_type": "markdown",
            "metadata": {},
            "source": "### Connect to the database\n\nLet us first load the SQL extension and establish a connection with the database\n"
        },
        {
            "cell_type": "code",
            "execution_count": 2,
            "metadata": {},
            "outputs": [
                {
                    "name": "stdout",
                    "output_type": "stream",
                    "text": "Requirement already satisfied: ipython-sql in /opt/conda/envs/Python-3.8-main/lib/python3.8/site-packages (0.4.0)\nRequirement already satisfied: six in /opt/conda/envs/Python-3.8-main/lib/python3.8/site-packages (from ipython-sql) (1.15.0)\nRequirement already satisfied: ipython>=1.0 in /opt/conda/envs/Python-3.8-main/lib/python3.8/site-packages (from ipython-sql) (7.22.0)\nRequirement already satisfied: sqlalchemy>=0.6.7 in /opt/conda/envs/Python-3.8-main/lib/python3.8/site-packages (from ipython-sql) (1.3.9)\nRequirement already satisfied: sqlparse in /opt/conda/envs/Python-3.8-main/lib/python3.8/site-packages (from ipython-sql) (0.4.2)\nRequirement already satisfied: prettytable<1 in /opt/conda/envs/Python-3.8-main/lib/python3.8/site-packages (from ipython-sql) (0.7.2)\nRequirement already satisfied: ipython-genutils>=0.1.0 in /opt/conda/envs/Python-3.8-main/lib/python3.8/site-packages (from ipython-sql) (0.2.0)\nRequirement already satisfied: traitlets>=4.2 in /opt/conda/envs/Python-3.8-main/lib/python3.8/site-packages (from ipython>=1.0->ipython-sql) (5.0.5)\nRequirement already satisfied: pygments in /opt/conda/envs/Python-3.8-main/lib/python3.8/site-packages (from ipython>=1.0->ipython-sql) (2.9.0)\nRequirement already satisfied: backcall in /opt/conda/envs/Python-3.8-main/lib/python3.8/site-packages (from ipython>=1.0->ipython-sql) (0.2.0)\nRequirement already satisfied: pickleshare in /opt/conda/envs/Python-3.8-main/lib/python3.8/site-packages (from ipython>=1.0->ipython-sql) (0.7.5)\nRequirement already satisfied: pexpect>4.3 in /opt/conda/envs/Python-3.8-main/lib/python3.8/site-packages (from ipython>=1.0->ipython-sql) (4.8.0)\nRequirement already satisfied: setuptools>=18.5 in /opt/conda/envs/Python-3.8-main/lib/python3.8/site-packages (from ipython>=1.0->ipython-sql) (52.0.0.post20210125)\nRequirement already satisfied: decorator in /opt/conda/envs/Python-3.8-main/lib/python3.8/site-packages (from ipython>=1.0->ipython-sql) (5.0.9)\nRequirement already satisfied: prompt-toolkit!=3.0.0,!=3.0.1,<3.1.0,>=2.0.0 in /opt/conda/envs/Python-3.8-main/lib/python3.8/site-packages (from ipython>=1.0->ipython-sql) (3.0.17)\nRequirement already satisfied: jedi>=0.16 in /opt/conda/envs/Python-3.8-main/lib/python3.8/site-packages (from ipython>=1.0->ipython-sql) (0.17.2)\nRequirement already satisfied: parso<0.8.0,>=0.7.0 in /opt/conda/envs/Python-3.8-main/lib/python3.8/site-packages (from jedi>=0.16->ipython>=1.0->ipython-sql) (0.7.0)\nRequirement already satisfied: ptyprocess>=0.5 in /opt/conda/envs/Python-3.8-main/lib/python3.8/site-packages (from pexpect>4.3->ipython>=1.0->ipython-sql) (0.7.0)\nRequirement already satisfied: wcwidth in /opt/conda/envs/Python-3.8-main/lib/python3.8/site-packages (from prompt-toolkit!=3.0.0,!=3.0.1,<3.1.0,>=2.0.0->ipython>=1.0->ipython-sql) (0.2.5)\n"
                }
            ],
            "source": "!pip install ipython-sql\n# !pip uninstall sql\n%load_ext sql"
        },
        {
            "cell_type": "markdown",
            "metadata": {},
            "source": "**DB2 magic in case of old UI service credentials.**\n\nIn the next cell enter your db2 connection string. Recall you created Service Credentials for your Db2 instance before. From the **uri** field of your Db2 service credentials copy everything after db2:// (except the double quote at the end) and paste it in the cell below after ibm_db_sa://\n\n<img src =\"https://cf-courses-data.s3.us.cloud-object-storage.appdomain.cloud/IBMDeveloperSkillsNetwork-DB0201EN-SkillsNetwork/labs/FinalModule_edX/images/URI.jpg\">\n\nin the following format\n\n**%sql ibm_db_sa://my-username:my-password\\@my-hostname:my-port/my-db-name**\n\n**DB2 magic in case of new UI service credentials.**\n\n<img src =\"https://cf-courses-data.s3.us.cloud-object-storage.appdomain.cloud/IBM-DS0321EN-SkillsNetwork/labs/module_2/images/servicecredentials.png\" width=600>  \n\n*   Use the following format.\n\n*   Add security=SSL at the end\n\n**%sql ibm_db_sa://my-username:my-password\\@my-hostname:my-port/my-db-name?security=SSL**\n"
        },
        {
            "cell_type": "code",
            "execution_count": 3,
            "metadata": {},
            "outputs": [],
            "source": "%sql ibm_db_sa://gfv66900:ajBe2Gq05vlyJlUl@0c77d6f2-5da9-48a9-81f8-86b520b87518.bs2io90l08kqb1od8lcg.databases.appdomain.cloud:31198/bludb?security=SSL"
        },
        {
            "cell_type": "code",
            "execution_count": 4,
            "metadata": {},
            "outputs": [],
            "source": "# import pandas as pd\n\n# spacex = %sql select * from spacex\n\n# df = pd.read_sql(spacex)"
        },
        {
            "cell_type": "code",
            "execution_count": 5,
            "metadata": {},
            "outputs": [],
            "source": "# %sql ibm_db_sa://gfv66900:ajBe2Gq05vlyJlUl@0c77d6f2-5da9-48a9-81f8-86b520b87518.bs2io90l08kqb1od8lcg.databases.appdomain.cloud:31198/bludb?authSource=admin&replicaSet=replset"
        },
        {
            "cell_type": "markdown",
            "metadata": {},
            "source": "## Tasks\n\nNow write and execute SQL queries to solve the assignment tasks.\n\n### Task 1\n\n##### Display the names of the unique launch sites  in the space mission\n"
        },
        {
            "cell_type": "code",
            "execution_count": 6,
            "metadata": {},
            "outputs": [
                {
                    "name": "stdout",
                    "output_type": "stream",
                    "text": " * ibm_db_sa://gfv66900:***@0c77d6f2-5da9-48a9-81f8-86b520b87518.bs2io90l08kqb1od8lcg.databases.appdomain.cloud:31198/bludb\nDone.\n"
                },
                {
                    "data": {
                        "text/html": "<table>\n    <tr>\n        <th>launch_site</th>\n    </tr>\n    <tr>\n        <td>CCAFS LC-40</td>\n    </tr>\n    <tr>\n        <td>CCAFS SLC-40</td>\n    </tr>\n    <tr>\n        <td>KSC LC-39A</td>\n    </tr>\n    <tr>\n        <td>VAFB SLC-4E</td>\n    </tr>\n</table>",
                        "text/plain": "[('CCAFS LC-40',), ('CCAFS SLC-40',), ('KSC LC-39A',), ('VAFB SLC-4E',)]"
                    },
                    "execution_count": 6,
                    "metadata": {},
                    "output_type": "execute_result"
                }
            ],
            "source": "%sql select distinct(launch_site) from SPACEX"
        },
        {
            "cell_type": "code",
            "execution_count": null,
            "metadata": {},
            "outputs": [],
            "source": ""
        },
        {
            "cell_type": "markdown",
            "metadata": {},
            "source": "### Task 2\n\n##### Display 5 records where launch sites begin with the string 'CCA'\n"
        },
        {
            "cell_type": "code",
            "execution_count": 7,
            "metadata": {},
            "outputs": [
                {
                    "name": "stdout",
                    "output_type": "stream",
                    "text": " * ibm_db_sa://gfv66900:***@0c77d6f2-5da9-48a9-81f8-86b520b87518.bs2io90l08kqb1od8lcg.databases.appdomain.cloud:31198/bludb\nDone.\n"
                },
                {
                    "data": {
                        "text/html": "<table>\n    <tr>\n        <th>DATE</th>\n        <th>time__utc_</th>\n        <th>booster_version</th>\n        <th>launch_site</th>\n        <th>payload</th>\n        <th>payload_mass__kg_</th>\n        <th>orbit</th>\n        <th>customer</th>\n        <th>mission_outcome</th>\n        <th>landing__outcome</th>\n    </tr>\n    <tr>\n        <td>2010-06-04</td>\n        <td>18:45:00</td>\n        <td>F9 v1.0  B0003</td>\n        <td>CCAFS LC-40</td>\n        <td>Dragon Spacecraft Qualification Unit                                                                                            </td>\n        <td>0</td>\n        <td>LEO</td>\n        <td>SpaceX</td>\n        <td>Success</td>\n        <td>Failure (parachute)</td>\n    </tr>\n    <tr>\n        <td>2010-12-08</td>\n        <td>15:43:00</td>\n        <td>F9 v1.0  B0004</td>\n        <td>CCAFS LC-40</td>\n        <td>Dragon demo flight C1, two CubeSats, barrel of Brouere cheese                                                                   </td>\n        <td>0</td>\n        <td>LEO (ISS)</td>\n        <td>NASA (COTS) NRO</td>\n        <td>Success</td>\n        <td>Failure (parachute)</td>\n    </tr>\n    <tr>\n        <td>2012-05-22</td>\n        <td>07:44:00</td>\n        <td>F9 v1.0  B0005</td>\n        <td>CCAFS LC-40</td>\n        <td>Dragon demo flight C2                                                                                                           </td>\n        <td>525</td>\n        <td>LEO (ISS)</td>\n        <td>NASA (COTS)</td>\n        <td>Success</td>\n        <td>No attempt</td>\n    </tr>\n    <tr>\n        <td>2012-10-08</td>\n        <td>00:35:00</td>\n        <td>F9 v1.0  B0006</td>\n        <td>CCAFS LC-40</td>\n        <td>SpaceX CRS-1                                                                                                                    </td>\n        <td>500</td>\n        <td>LEO (ISS)</td>\n        <td>NASA (CRS)</td>\n        <td>Success</td>\n        <td>No attempt</td>\n    </tr>\n    <tr>\n        <td>2013-03-01</td>\n        <td>15:10:00</td>\n        <td>F9 v1.0  B0007</td>\n        <td>CCAFS LC-40</td>\n        <td>SpaceX CRS-2                                                                                                                    </td>\n        <td>677</td>\n        <td>LEO (ISS)</td>\n        <td>NASA (CRS)</td>\n        <td>Success</td>\n        <td>No attempt</td>\n    </tr>\n</table>",
                        "text/plain": "[(datetime.date(2010, 6, 4), datetime.time(18, 45), 'F9 v1.0  B0003', 'CCAFS LC-40', 'Dragon Spacecraft Qualification Unit                                                                                            ', 0, 'LEO', 'SpaceX', 'Success', 'Failure (parachute)'),\n (datetime.date(2010, 12, 8), datetime.time(15, 43), 'F9 v1.0  B0004', 'CCAFS LC-40', 'Dragon demo flight C1, two CubeSats, barrel of Brouere cheese                                                                   ', 0, 'LEO (ISS)', 'NASA (COTS) NRO', 'Success', 'Failure (parachute)'),\n (datetime.date(2012, 5, 22), datetime.time(7, 44), 'F9 v1.0  B0005', 'CCAFS LC-40', 'Dragon demo flight C2                                                                                                           ', 525, 'LEO (ISS)', 'NASA (COTS)', 'Success', 'No attempt'),\n (datetime.date(2012, 10, 8), datetime.time(0, 35), 'F9 v1.0  B0006', 'CCAFS LC-40', 'SpaceX CRS-1                                                                                                                    ', 500, 'LEO (ISS)', 'NASA (CRS)', 'Success', 'No attempt'),\n (datetime.date(2013, 3, 1), datetime.time(15, 10), 'F9 v1.0  B0007', 'CCAFS LC-40', 'SpaceX CRS-2                                                                                                                    ', 677, 'LEO (ISS)', 'NASA (CRS)', 'Success', 'No attempt')]"
                    },
                    "execution_count": 7,
                    "metadata": {},
                    "output_type": "execute_result"
                }
            ],
            "source": "%%sql \nselect * from spacex where launch_site like 'CCA%' limit 5;\n    "
        },
        {
            "cell_type": "markdown",
            "metadata": {},
            "source": "### Task 3\n\n##### Display the total payload mass carried by boosters launched by NASA (CRS)\n"
        },
        {
            "cell_type": "code",
            "execution_count": 8,
            "metadata": {},
            "outputs": [
                {
                    "name": "stdout",
                    "output_type": "stream",
                    "text": " * ibm_db_sa://gfv66900:***@0c77d6f2-5da9-48a9-81f8-86b520b87518.bs2io90l08kqb1od8lcg.databases.appdomain.cloud:31198/bludb\nDone.\n"
                },
                {
                    "data": {
                        "text/html": "<table>\n    <tr>\n        <th>total_payload_mass</th>\n    </tr>\n    <tr>\n        <td>45596</td>\n    </tr>\n</table>",
                        "text/plain": "[(45596,)]"
                    },
                    "execution_count": 8,
                    "metadata": {},
                    "output_type": "execute_result"
                }
            ],
            "source": "%%sql\nselect sum(payload_mass__kg_) as Total_payload_mass from spacex\nwhere customer='NASA (CRS)'"
        },
        {
            "cell_type": "markdown",
            "metadata": {},
            "source": "### Task 4\n\n##### Display average payload mass carried by booster version F9 v1.1\n"
        },
        {
            "cell_type": "code",
            "execution_count": 19,
            "metadata": {},
            "outputs": [
                {
                    "name": "stdout",
                    "output_type": "stream",
                    "text": " * ibm_db_sa://gfv66900:***@0c77d6f2-5da9-48a9-81f8-86b520b87518.bs2io90l08kqb1od8lcg.databases.appdomain.cloud:31198/bludb\nDone.\n"
                },
                {
                    "data": {
                        "text/html": "<table>\n    <tr>\n        <th>avg_payload_mass</th>\n    </tr>\n    <tr>\n        <td>2928</td>\n    </tr>\n</table>",
                        "text/plain": "[(2928,)]"
                    },
                    "execution_count": 19,
                    "metadata": {},
                    "output_type": "execute_result"
                }
            ],
            "source": "%%sql\nselect AVG(payload_mass__kg_) as AVG_payload_mass from spacex\nwhere booster_version like 'F9 v1.1'"
        },
        {
            "cell_type": "markdown",
            "metadata": {},
            "source": "### Task 5\n\n##### List the date when the first succesful landing outcome in ground pad was acheived.\n\n*Hint:Use min function*\n"
        },
        {
            "cell_type": "code",
            "execution_count": 37,
            "metadata": {},
            "outputs": [
                {
                    "name": "stdout",
                    "output_type": "stream",
                    "text": " * ibm_db_sa://gfv66900:***@0c77d6f2-5da9-48a9-81f8-86b520b87518.bs2io90l08kqb1od8lcg.databases.appdomain.cloud:31198/bludb\nDone.\n"
                },
                {
                    "data": {
                        "text/html": "<table>\n    <tr>\n        <th>min_date</th>\n    </tr>\n    <tr>\n        <td>2015-12-22</td>\n    </tr>\n</table>",
                        "text/plain": "[(datetime.date(2015, 12, 22),)]"
                    },
                    "execution_count": 37,
                    "metadata": {},
                    "output_type": "execute_result"
                }
            ],
            "source": "%%sql\nselect min(DATE) as min_date from spacex\nwhere landing__outcome='Success (ground pad)' "
        },
        {
            "cell_type": "markdown",
            "metadata": {},
            "source": "### Task 6\n\n##### List the names of the boosters which have success in drone ship and have payload mass greater than 4000 but less than 6000\n"
        },
        {
            "cell_type": "code",
            "execution_count": 11,
            "metadata": {},
            "outputs": [
                {
                    "name": "stdout",
                    "output_type": "stream",
                    "text": " * ibm_db_sa://gfv66900:***@0c77d6f2-5da9-48a9-81f8-86b520b87518.bs2io90l08kqb1od8lcg.databases.appdomain.cloud:31198/bludb\nDone.\n"
                },
                {
                    "data": {
                        "text/html": "<table>\n    <tr>\n        <th>booster_version</th>\n    </tr>\n    <tr>\n        <td>F9 FT B1022</td>\n    </tr>\n    <tr>\n        <td>F9 FT B1026</td>\n    </tr>\n    <tr>\n        <td>F9 FT  B1021.2</td>\n    </tr>\n    <tr>\n        <td>F9 FT  B1031.2</td>\n    </tr>\n</table>",
                        "text/plain": "[('F9 FT B1022',), ('F9 FT B1026',), ('F9 FT  B1021.2',), ('F9 FT  B1031.2',)]"
                    },
                    "execution_count": 11,
                    "metadata": {},
                    "output_type": "execute_result"
                }
            ],
            "source": "%%sql\nselect booster_version from spacex\nwhere landing__outcome='Success (drone ship)' and payload_mass__kg_ > 4000 and payload_mass__kg_ < 6000;"
        },
        {
            "cell_type": "markdown",
            "metadata": {},
            "source": "### Task 7\n\n##### List the total number of successful and failure mission outcomes\n"
        },
        {
            "cell_type": "code",
            "execution_count": 12,
            "metadata": {},
            "outputs": [
                {
                    "name": "stdout",
                    "output_type": "stream",
                    "text": " * ibm_db_sa://gfv66900:***@0c77d6f2-5da9-48a9-81f8-86b520b87518.bs2io90l08kqb1od8lcg.databases.appdomain.cloud:31198/bludb\nDone.\n"
                },
                {
                    "data": {
                        "text/html": "<table>\n    <tr>\n        <th>mission_outcome</th>\n        <th>count_</th>\n    </tr>\n    <tr>\n        <td>Failure (in flight)</td>\n        <td>1</td>\n    </tr>\n    <tr>\n        <td>Success (payload status unclear)</td>\n        <td>1</td>\n    </tr>\n    <tr>\n        <td>Success</td>\n        <td>99</td>\n    </tr>\n</table>",
                        "text/plain": "[('Failure (in flight)', 1),\n ('Success (payload status unclear)', 1),\n ('Success', 99)]"
                    },
                    "execution_count": 12,
                    "metadata": {},
                    "output_type": "execute_result"
                }
            ],
            "source": "%%sql\nselect mission_outcome as mission_outcome, count(mission_outcome) as count_ from spacex \ngroup by mission_outcome\norder by count(mission_outcome)"
        },
        {
            "cell_type": "markdown",
            "metadata": {},
            "source": "### Task 8\n\n##### List the   names of the booster_versions which have carried the maximum payload mass. Use a subquery\n"
        },
        {
            "cell_type": "code",
            "execution_count": 13,
            "metadata": {},
            "outputs": [
                {
                    "name": "stdout",
                    "output_type": "stream",
                    "text": " * ibm_db_sa://gfv66900:***@0c77d6f2-5da9-48a9-81f8-86b520b87518.bs2io90l08kqb1od8lcg.databases.appdomain.cloud:31198/bludb\nDone.\n"
                },
                {
                    "data": {
                        "text/html": "<table>\n    <tr>\n        <th>booster_version</th>\n        <th>payload_mass__kg_</th>\n    </tr>\n    <tr>\n        <td>F9 B5 B1048.4</td>\n        <td>15600</td>\n    </tr>\n    <tr>\n        <td>F9 B5 B1049.4</td>\n        <td>15600</td>\n    </tr>\n    <tr>\n        <td>F9 B5 B1051.3</td>\n        <td>15600</td>\n    </tr>\n    <tr>\n        <td>F9 B5 B1056.4</td>\n        <td>15600</td>\n    </tr>\n    <tr>\n        <td>F9 B5 B1048.5</td>\n        <td>15600</td>\n    </tr>\n    <tr>\n        <td>F9 B5 B1051.4</td>\n        <td>15600</td>\n    </tr>\n    <tr>\n        <td>F9 B5 B1049.5</td>\n        <td>15600</td>\n    </tr>\n    <tr>\n        <td>F9 B5 B1060.2</td>\n        <td>15600</td>\n    </tr>\n    <tr>\n        <td>F9 B5 B1058.3</td>\n        <td>15600</td>\n    </tr>\n    <tr>\n        <td>F9 B5 B1051.6</td>\n        <td>15600</td>\n    </tr>\n    <tr>\n        <td>F9 B5 B1060.3</td>\n        <td>15600</td>\n    </tr>\n    <tr>\n        <td>F9 B5 B1049.7</td>\n        <td>15600</td>\n    </tr>\n</table>",
                        "text/plain": "[('F9 B5 B1048.4', 15600),\n ('F9 B5 B1049.4', 15600),\n ('F9 B5 B1051.3', 15600),\n ('F9 B5 B1056.4', 15600),\n ('F9 B5 B1048.5', 15600),\n ('F9 B5 B1051.4', 15600),\n ('F9 B5 B1049.5', 15600),\n ('F9 B5 B1060.2', 15600),\n ('F9 B5 B1058.3', 15600),\n ('F9 B5 B1051.6', 15600),\n ('F9 B5 B1060.3', 15600),\n ('F9 B5 B1049.7', 15600)]"
                    },
                    "execution_count": 13,
                    "metadata": {},
                    "output_type": "execute_result"
                }
            ],
            "source": "%%sql\nselect booster_version, payload_mass__kg_ from spacex \nwhere payload_mass__kg_ in (select max(payload_mass__kg_) from spacex)\n;"
        },
        {
            "cell_type": "markdown",
            "metadata": {},
            "source": "### Task 9\n\n##### List the failed landing_outcomes in drone ship, their booster versions, and launch site names for the in year 2015\n"
        },
        {
            "cell_type": "code",
            "execution_count": 14,
            "metadata": {},
            "outputs": [
                {
                    "name": "stdout",
                    "output_type": "stream",
                    "text": " * ibm_db_sa://gfv66900:***@0c77d6f2-5da9-48a9-81f8-86b520b87518.bs2io90l08kqb1od8lcg.databases.appdomain.cloud:31198/bludb\nDone.\n"
                },
                {
                    "data": {
                        "text/html": "<table>\n    <tr>\n        <th>booster_version</th>\n        <th>launch_site</th>\n        <th>landing__outcome</th>\n    </tr>\n    <tr>\n        <td>F9 v1.1 B1012</td>\n        <td>CCAFS LC-40</td>\n        <td>Failure (drone ship)</td>\n    </tr>\n    <tr>\n        <td>F9 v1.1 B1015</td>\n        <td>CCAFS LC-40</td>\n        <td>Failure (drone ship)</td>\n    </tr>\n</table>",
                        "text/plain": "[('F9 v1.1 B1012', 'CCAFS LC-40', 'Failure (drone ship)'),\n ('F9 v1.1 B1015', 'CCAFS LC-40', 'Failure (drone ship)')]"
                    },
                    "execution_count": 14,
                    "metadata": {},
                    "output_type": "execute_result"
                }
            ],
            "source": "%%sql\nselect booster_version, launch_site, landing__outcome from spacex\nwhere DATE like '2015%' and landing__outcome = 'Failure (drone ship)'"
        },
        {
            "cell_type": "markdown",
            "metadata": {},
            "source": "### Task 10\n\n##### Rank the count of landing outcomes (such as Failure (drone ship) or Success (ground pad)) between the date 2010-06-04 and 2017-03-20, in descending order\n"
        },
        {
            "cell_type": "code",
            "execution_count": 15,
            "metadata": {},
            "outputs": [
                {
                    "name": "stdout",
                    "output_type": "stream",
                    "text": " * ibm_db_sa://gfv66900:***@0c77d6f2-5da9-48a9-81f8-86b520b87518.bs2io90l08kqb1od8lcg.databases.appdomain.cloud:31198/bludb\nDone.\n"
                },
                {
                    "data": {
                        "text/html": "<table>\n    <tr>\n        <th>landing__outcome</th>\n        <th>count_</th>\n    </tr>\n    <tr>\n        <td>No attempt</td>\n        <td>10</td>\n    </tr>\n    <tr>\n        <td>Failure (drone ship)</td>\n        <td>5</td>\n    </tr>\n    <tr>\n        <td>Success (drone ship)</td>\n        <td>5</td>\n    </tr>\n    <tr>\n        <td>Controlled (ocean)</td>\n        <td>3</td>\n    </tr>\n    <tr>\n        <td>Success (ground pad)</td>\n        <td>3</td>\n    </tr>\n    <tr>\n        <td>Failure (parachute)</td>\n        <td>2</td>\n    </tr>\n    <tr>\n        <td>Uncontrolled (ocean)</td>\n        <td>2</td>\n    </tr>\n    <tr>\n        <td>Precluded (drone ship)</td>\n        <td>1</td>\n    </tr>\n</table>",
                        "text/plain": "[('No attempt', 10),\n ('Failure (drone ship)', 5),\n ('Success (drone ship)', 5),\n ('Controlled (ocean)', 3),\n ('Success (ground pad)', 3),\n ('Failure (parachute)', 2),\n ('Uncontrolled (ocean)', 2),\n ('Precluded (drone ship)', 1)]"
                    },
                    "execution_count": 15,
                    "metadata": {},
                    "output_type": "execute_result"
                }
            ],
            "source": "%%sql\nselect landing__outcome as landing__outcome, count(landing__outcome) as count_ from spacex \nwhere DATE between '2010-06-04' and '2017-03-20'\ngroup by landing__outcome\norder by count(landing__outcome) desc;"
        },
        {
            "cell_type": "code",
            "execution_count": 29,
            "metadata": {},
            "outputs": [
                {
                    "name": "stdout",
                    "output_type": "stream",
                    "text": " * ibm_db_sa://gfv66900:***@0c77d6f2-5da9-48a9-81f8-86b520b87518.bs2io90l08kqb1od8lcg.databases.appdomain.cloud:31198/bludb\nDone.\n"
                },
                {
                    "data": {
                        "text/html": "<table>\n    <tr>\n        <th>DATE</th>\n        <th>time__utc_</th>\n        <th>booster_version</th>\n        <th>launch_site</th>\n        <th>payload</th>\n        <th>payload_mass__kg_</th>\n        <th>orbit</th>\n        <th>customer</th>\n        <th>mission_outcome</th>\n        <th>landing__outcome</th>\n    </tr>\n    <tr>\n        <td>2010-06-04</td>\n        <td>18:45:00</td>\n        <td>F9 v1.0  B0003</td>\n        <td>CCAFS LC-40</td>\n        <td>Dragon Spacecraft Qualification Unit                                                                                            </td>\n        <td>0</td>\n        <td>LEO</td>\n        <td>SpaceX</td>\n        <td>Success</td>\n        <td>Failure (parachute)</td>\n    </tr>\n    <tr>\n        <td>2010-12-08</td>\n        <td>15:43:00</td>\n        <td>F9 v1.0  B0004</td>\n        <td>CCAFS LC-40</td>\n        <td>Dragon demo flight C1, two CubeSats, barrel of Brouere cheese                                                                   </td>\n        <td>0</td>\n        <td>LEO (ISS)</td>\n        <td>NASA (COTS) NRO</td>\n        <td>Success</td>\n        <td>Failure (parachute)</td>\n    </tr>\n    <tr>\n        <td>2012-05-22</td>\n        <td>07:44:00</td>\n        <td>F9 v1.0  B0005</td>\n        <td>CCAFS LC-40</td>\n        <td>Dragon demo flight C2                                                                                                           </td>\n        <td>525</td>\n        <td>LEO (ISS)</td>\n        <td>NASA (COTS)</td>\n        <td>Success</td>\n        <td>No attempt</td>\n    </tr>\n    <tr>\n        <td>2012-10-08</td>\n        <td>00:35:00</td>\n        <td>F9 v1.0  B0006</td>\n        <td>CCAFS LC-40</td>\n        <td>SpaceX CRS-1                                                                                                                    </td>\n        <td>500</td>\n        <td>LEO (ISS)</td>\n        <td>NASA (CRS)</td>\n        <td>Success</td>\n        <td>No attempt</td>\n    </tr>\n    <tr>\n        <td>2013-03-01</td>\n        <td>15:10:00</td>\n        <td>F9 v1.0  B0007</td>\n        <td>CCAFS LC-40</td>\n        <td>SpaceX CRS-2                                                                                                                    </td>\n        <td>677</td>\n        <td>LEO (ISS)</td>\n        <td>NASA (CRS)</td>\n        <td>Success</td>\n        <td>No attempt</td>\n    </tr>\n    <tr>\n        <td>2013-09-29</td>\n        <td>16:00:00</td>\n        <td>F9 v1.1  B1003</td>\n        <td>VAFB SLC-4E</td>\n        <td>CASSIOPE                                                                                                                        </td>\n        <td>500</td>\n        <td>Polar LEO</td>\n        <td>MDA</td>\n        <td>Success</td>\n        <td>Uncontrolled (ocean)</td>\n    </tr>\n    <tr>\n        <td>2013-12-03</td>\n        <td>22:41:00</td>\n        <td>F9 v1.1</td>\n        <td>CCAFS LC-40</td>\n        <td>SES-8                                                                                                                           </td>\n        <td>3170</td>\n        <td>GTO</td>\n        <td>SES</td>\n        <td>Success</td>\n        <td>No attempt</td>\n    </tr>\n    <tr>\n        <td>2014-01-06</td>\n        <td>22:06:00</td>\n        <td>F9 v1.1</td>\n        <td>CCAFS LC-40</td>\n        <td>Thaicom 6                                                                                                                       </td>\n        <td>3325</td>\n        <td>GTO</td>\n        <td>Thaicom</td>\n        <td>Success</td>\n        <td>No attempt</td>\n    </tr>\n    <tr>\n        <td>2014-04-18</td>\n        <td>19:25:00</td>\n        <td>F9 v1.1</td>\n        <td>CCAFS LC-40</td>\n        <td>SpaceX CRS-3                                                                                                                    </td>\n        <td>2296</td>\n        <td>LEO (ISS)</td>\n        <td>NASA (CRS)</td>\n        <td>Success</td>\n        <td>Controlled (ocean)</td>\n    </tr>\n    <tr>\n        <td>2014-07-14</td>\n        <td>15:15:00</td>\n        <td>F9 v1.1</td>\n        <td>CCAFS LC-40</td>\n        <td>OG2 Mission 1  6 Orbcomm-OG2 satellites                                                                                         </td>\n        <td>1316</td>\n        <td>LEO</td>\n        <td>Orbcomm</td>\n        <td>Success</td>\n        <td>Controlled (ocean)</td>\n    </tr>\n</table>",
                        "text/plain": "[(datetime.date(2010, 6, 4), datetime.time(18, 45), 'F9 v1.0  B0003', 'CCAFS LC-40', 'Dragon Spacecraft Qualification Unit                                                                                            ', 0, 'LEO', 'SpaceX', 'Success', 'Failure (parachute)'),\n (datetime.date(2010, 12, 8), datetime.time(15, 43), 'F9 v1.0  B0004', 'CCAFS LC-40', 'Dragon demo flight C1, two CubeSats, barrel of Brouere cheese                                                                   ', 0, 'LEO (ISS)', 'NASA (COTS) NRO', 'Success', 'Failure (parachute)'),\n (datetime.date(2012, 5, 22), datetime.time(7, 44), 'F9 v1.0  B0005', 'CCAFS LC-40', 'Dragon demo flight C2                                                                                                           ', 525, 'LEO (ISS)', 'NASA (COTS)', 'Success', 'No attempt'),\n (datetime.date(2012, 10, 8), datetime.time(0, 35), 'F9 v1.0  B0006', 'CCAFS LC-40', 'SpaceX CRS-1                                                                                                                    ', 500, 'LEO (ISS)', 'NASA (CRS)', 'Success', 'No attempt'),\n (datetime.date(2013, 3, 1), datetime.time(15, 10), 'F9 v1.0  B0007', 'CCAFS LC-40', 'SpaceX CRS-2                                                                                                                    ', 677, 'LEO (ISS)', 'NASA (CRS)', 'Success', 'No attempt'),\n (datetime.date(2013, 9, 29), datetime.time(16, 0), 'F9 v1.1  B1003', 'VAFB SLC-4E', 'CASSIOPE                                                                                                                        ', 500, 'Polar LEO', 'MDA', 'Success', 'Uncontrolled (ocean)'),\n (datetime.date(2013, 12, 3), datetime.time(22, 41), 'F9 v1.1', 'CCAFS LC-40', 'SES-8                                                                                                                           ', 3170, 'GTO', 'SES', 'Success', 'No attempt'),\n (datetime.date(2014, 1, 6), datetime.time(22, 6), 'F9 v1.1', 'CCAFS LC-40', 'Thaicom 6                                                                                                                       ', 3325, 'GTO', 'Thaicom', 'Success', 'No attempt'),\n (datetime.date(2014, 4, 18), datetime.time(19, 25), 'F9 v1.1', 'CCAFS LC-40', 'SpaceX CRS-3                                                                                                                    ', 2296, 'LEO (ISS)', 'NASA (CRS)', 'Success', 'Controlled (ocean)'),\n (datetime.date(2014, 7, 14), datetime.time(15, 15), 'F9 v1.1', 'CCAFS LC-40', 'OG2 Mission 1  6 Orbcomm-OG2 satellites                                                                                         ', 1316, 'LEO', 'Orbcomm', 'Success', 'Controlled (ocean)')]"
                    },
                    "execution_count": 29,
                    "metadata": {},
                    "output_type": "execute_result"
                }
            ],
            "source": "%sql select * from spacex limit 10;"
        },
        {
            "cell_type": "code",
            "execution_count": 28,
            "metadata": {},
            "outputs": [
                {
                    "name": "stdout",
                    "output_type": "stream",
                    "text": " * ibm_db_sa://gfv66900:***@0c77d6f2-5da9-48a9-81f8-86b520b87518.bs2io90l08kqb1od8lcg.databases.appdomain.cloud:31198/bludb\nDone.\n"
                },
                {
                    "data": {
                        "text/html": "<table>\n    <tr>\n        <th>booster_version</th>\n    </tr>\n    <tr>\n        <td>F9 B4  B1039.2</td>\n    </tr>\n    <tr>\n        <td>F9 B4  B1040.2</td>\n    </tr>\n    <tr>\n        <td>F9 B4  B1041.2</td>\n    </tr>\n    <tr>\n        <td>F9 B4  B1043.2</td>\n    </tr>\n    <tr>\n        <td>F9 B4 B1039.1</td>\n    </tr>\n    <tr>\n        <td>F9 B4 B1040.1</td>\n    </tr>\n    <tr>\n        <td>F9 B4 B1041.1</td>\n    </tr>\n    <tr>\n        <td>F9 B4 B1042.1</td>\n    </tr>\n    <tr>\n        <td>F9 B4 B1043.1</td>\n    </tr>\n    <tr>\n        <td>F9 B4 B1044</td>\n    </tr>\n    <tr>\n        <td>F9 B4 B1045.1</td>\n    </tr>\n    <tr>\n        <td>F9 B4 B1045.2</td>\n    </tr>\n    <tr>\n        <td>F9 B5  B1046.1</td>\n    </tr>\n    <tr>\n        <td>F9 B5 B1046.2</td>\n    </tr>\n    <tr>\n        <td>F9 B5 B1046.3</td>\n    </tr>\n    <tr>\n        <td>F9 B5 B1046.4</td>\n    </tr>\n    <tr>\n        <td>F9 B5 B1047.2</td>\n    </tr>\n    <tr>\n        <td>F9 B5 B1047.3</td>\n    </tr>\n    <tr>\n        <td>F9 B5 B1048.2</td>\n    </tr>\n    <tr>\n        <td>F9 B5 B1048.3</td>\n    </tr>\n    <tr>\n        <td>F9 B5 B1048.4</td>\n    </tr>\n    <tr>\n        <td>F9 B5 B1048.5</td>\n    </tr>\n    <tr>\n        <td>F9 B5 B1049.2</td>\n    </tr>\n    <tr>\n        <td>F9 B5 B1049.3</td>\n    </tr>\n    <tr>\n        <td>F9 B5 B1049.4</td>\n    </tr>\n    <tr>\n        <td>F9 B5 B1049.5</td>\n    </tr>\n    <tr>\n        <td>F9 B5 B1049.6</td>\n    </tr>\n    <tr>\n        <td>F9 B5 B1049.7</td>\n    </tr>\n    <tr>\n        <td>F9 B5 B1051.2</td>\n    </tr>\n    <tr>\n        <td>F9 B5 B1051.3</td>\n    </tr>\n    <tr>\n        <td>F9 B5 B1051.4</td>\n    </tr>\n    <tr>\n        <td>F9 B5 B1051.5</td>\n    </tr>\n    <tr>\n        <td>F9 B5 B1051.6</td>\n    </tr>\n    <tr>\n        <td>F9 B5 B1056.2</td>\n    </tr>\n    <tr>\n        <td>F9 B5 B1056.3</td>\n    </tr>\n    <tr>\n        <td>F9 B5 B1056.4</td>\n    </tr>\n    <tr>\n        <td>F9 B5 B1058.2</td>\n    </tr>\n    <tr>\n        <td>F9 B5 B1058.3</td>\n    </tr>\n    <tr>\n        <td>F9 B5 B1058.4</td>\n    </tr>\n    <tr>\n        <td>F9 B5 B1059.2</td>\n    </tr>\n    <tr>\n        <td>F9 B5 B1059.3</td>\n    </tr>\n    <tr>\n        <td>F9 B5 B1059.4</td>\n    </tr>\n    <tr>\n        <td>F9 B5 B1060.2</td>\n    </tr>\n    <tr>\n        <td>F9 B5 B1060.3</td>\n    </tr>\n    <tr>\n        <td>F9 B5B1047.1</td>\n    </tr>\n    <tr>\n        <td>F9 B5B1048.1</td>\n    </tr>\n    <tr>\n        <td>F9 B5B1049.1</td>\n    </tr>\n    <tr>\n        <td>F9 B5B1050</td>\n    </tr>\n    <tr>\n        <td>F9 B5B1051.1</td>\n    </tr>\n    <tr>\n        <td>F9 B5B1054</td>\n    </tr>\n    <tr>\n        <td>F9 B5B1056.1</td>\n    </tr>\n    <tr>\n        <td>F9 B5B1058.1</td>\n    </tr>\n    <tr>\n        <td>F9 B5B1059.1</td>\n    </tr>\n    <tr>\n        <td>F9 B5B1060.1</td>\n    </tr>\n    <tr>\n        <td>F9 B5B1061.1</td>\n    </tr>\n    <tr>\n        <td>F9 B5B1062.1</td>\n    </tr>\n    <tr>\n        <td>F9 B5B1063.1</td>\n    </tr>\n    <tr>\n        <td>F9 FT  B1021.2</td>\n    </tr>\n    <tr>\n        <td>F9 FT  B1029.2</td>\n    </tr>\n    <tr>\n        <td>F9 FT  B1031.2</td>\n    </tr>\n    <tr>\n        <td>F9 FT  B1032.2</td>\n    </tr>\n    <tr>\n        <td>F9 FT  B1035.2</td>\n    </tr>\n    <tr>\n        <td>F9 FT  B1036.2</td>\n    </tr>\n    <tr>\n        <td>F9 FT  B1038.2</td>\n    </tr>\n    <tr>\n        <td>F9 FT B1019</td>\n    </tr>\n    <tr>\n        <td>F9 FT B1020</td>\n    </tr>\n    <tr>\n        <td>F9 FT B1021.1</td>\n    </tr>\n    <tr>\n        <td>F9 FT B1022</td>\n    </tr>\n    <tr>\n        <td>F9 FT B1023.1</td>\n    </tr>\n    <tr>\n        <td>F9 FT B1024</td>\n    </tr>\n    <tr>\n        <td>F9 FT B1025.1</td>\n    </tr>\n    <tr>\n        <td>F9 FT B1026</td>\n    </tr>\n    <tr>\n        <td>F9 FT B1029.1</td>\n    </tr>\n    <tr>\n        <td>F9 FT B1030</td>\n    </tr>\n    <tr>\n        <td>F9 FT B1031.1</td>\n    </tr>\n    <tr>\n        <td>F9 FT B1032.1</td>\n    </tr>\n    <tr>\n        <td>F9 FT B1034</td>\n    </tr>\n    <tr>\n        <td>F9 FT B1035.1</td>\n    </tr>\n    <tr>\n        <td>F9 FT B1036.1</td>\n    </tr>\n    <tr>\n        <td>F9 FT B1037</td>\n    </tr>\n    <tr>\n        <td>F9 FT B1038.1</td>\n    </tr>\n    <tr>\n        <td>F9 v1.0  B0003</td>\n    </tr>\n    <tr>\n        <td>F9 v1.0  B0004</td>\n    </tr>\n    <tr>\n        <td>F9 v1.0  B0005</td>\n    </tr>\n    <tr>\n        <td>F9 v1.0  B0006</td>\n    </tr>\n    <tr>\n        <td>F9 v1.0  B0007</td>\n    </tr>\n    <tr>\n        <td>F9 v1.1</td>\n    </tr>\n    <tr>\n        <td>F9 v1.1  B1003</td>\n    </tr>\n    <tr>\n        <td>F9 v1.1 B1010</td>\n    </tr>\n    <tr>\n        <td>F9 v1.1 B1011</td>\n    </tr>\n    <tr>\n        <td>F9 v1.1 B1012</td>\n    </tr>\n    <tr>\n        <td>F9 v1.1 B1013</td>\n    </tr>\n    <tr>\n        <td>F9 v1.1 B1014</td>\n    </tr>\n    <tr>\n        <td>F9 v1.1 B1015</td>\n    </tr>\n    <tr>\n        <td>F9 v1.1 B1016</td>\n    </tr>\n    <tr>\n        <td>F9 v1.1 B1017</td>\n    </tr>\n    <tr>\n        <td>F9 v1.1 B1018</td>\n    </tr>\n</table>",
                        "text/plain": "[('F9 B4  B1039.2',),\n ('F9 B4  B1040.2',),\n ('F9 B4  B1041.2',),\n ('F9 B4  B1043.2',),\n ('F9 B4 B1039.1',),\n ('F9 B4 B1040.1',),\n ('F9 B4 B1041.1',),\n ('F9 B4 B1042.1',),\n ('F9 B4 B1043.1',),\n ('F9 B4 B1044',),\n ('F9 B4 B1045.1',),\n ('F9 B4 B1045.2',),\n ('F9 B5  B1046.1',),\n ('F9 B5 B1046.2',),\n ('F9 B5 B1046.3',),\n ('F9 B5 B1046.4',),\n ('F9 B5 B1047.2',),\n ('F9 B5 B1047.3',),\n ('F9 B5 B1048.2',),\n ('F9 B5 B1048.3',),\n ('F9 B5 B1048.4',),\n ('F9 B5 B1048.5',),\n ('F9 B5 B1049.2',),\n ('F9 B5 B1049.3',),\n ('F9 B5 B1049.4',),\n ('F9 B5 B1049.5',),\n ('F9 B5 B1049.6',),\n ('F9 B5 B1049.7',),\n ('F9 B5 B1051.2',),\n ('F9 B5 B1051.3',),\n ('F9 B5 B1051.4',),\n ('F9 B5 B1051.5',),\n ('F9 B5 B1051.6',),\n ('F9 B5 B1056.2',),\n ('F9 B5 B1056.3',),\n ('F9 B5 B1056.4',),\n ('F9 B5 B1058.2',),\n ('F9 B5 B1058.3',),\n ('F9 B5 B1058.4',),\n ('F9 B5 B1059.2',),\n ('F9 B5 B1059.3',),\n ('F9 B5 B1059.4',),\n ('F9 B5 B1060.2',),\n ('F9 B5 B1060.3',),\n ('F9 B5B1047.1',),\n ('F9 B5B1048.1',),\n ('F9 B5B1049.1',),\n ('F9 B5B1050',),\n ('F9 B5B1051.1',),\n ('F9 B5B1054',),\n ('F9 B5B1056.1',),\n ('F9 B5B1058.1',),\n ('F9 B5B1059.1',),\n ('F9 B5B1060.1',),\n ('F9 B5B1061.1',),\n ('F9 B5B1062.1',),\n ('F9 B5B1063.1',),\n ('F9 FT  B1021.2',),\n ('F9 FT  B1029.2',),\n ('F9 FT  B1031.2',),\n ('F9 FT  B1032.2',),\n ('F9 FT  B1035.2',),\n ('F9 FT  B1036.2',),\n ('F9 FT  B1038.2',),\n ('F9 FT B1019',),\n ('F9 FT B1020',),\n ('F9 FT B1021.1',),\n ('F9 FT B1022',),\n ('F9 FT B1023.1',),\n ('F9 FT B1024',),\n ('F9 FT B1025.1',),\n ('F9 FT B1026',),\n ('F9 FT B1029.1',),\n ('F9 FT B1030',),\n ('F9 FT B1031.1',),\n ('F9 FT B1032.1',),\n ('F9 FT B1034',),\n ('F9 FT B1035.1',),\n ('F9 FT B1036.1',),\n ('F9 FT B1037',),\n ('F9 FT B1038.1',),\n ('F9 v1.0  B0003',),\n ('F9 v1.0  B0004',),\n ('F9 v1.0  B0005',),\n ('F9 v1.0  B0006',),\n ('F9 v1.0  B0007',),\n ('F9 v1.1',),\n ('F9 v1.1  B1003',),\n ('F9 v1.1 B1010',),\n ('F9 v1.1 B1011',),\n ('F9 v1.1 B1012',),\n ('F9 v1.1 B1013',),\n ('F9 v1.1 B1014',),\n ('F9 v1.1 B1015',),\n ('F9 v1.1 B1016',),\n ('F9 v1.1 B1017',),\n ('F9 v1.1 B1018',)]"
                    },
                    "execution_count": 28,
                    "metadata": {},
                    "output_type": "execute_result"
                }
            ],
            "source": "# %%sql \n# select distinct(booster_version) from spacex;"
        },
        {
            "cell_type": "code",
            "execution_count": 30,
            "metadata": {},
            "outputs": [
                {
                    "name": "stdout",
                    "output_type": "stream",
                    "text": " * ibm_db_sa://gfv66900:***@0c77d6f2-5da9-48a9-81f8-86b520b87518.bs2io90l08kqb1od8lcg.databases.appdomain.cloud:31198/bludb\nDone.\n"
                },
                {
                    "data": {
                        "text/html": "<table>\n    <tr>\n        <th>payload</th>\n    </tr>\n    <tr>\n        <td>ABS-2A Eutelsat 117 West B                                                                                                      </td>\n    </tr>\n    <tr>\n        <td>ABS-3A Eutelsat 115 West B                                                                                                      </td>\n    </tr>\n    <tr>\n        <td>AMOS-17, Starlink 1 v1.0                                                                                                        </td>\n    </tr>\n    <tr>\n        <td>ANASIS-II, Starlink 9 v1.0                                                                                                      </td>\n    </tr>\n    <tr>\n        <td>AsiaSat 6                                                                                                                       </td>\n    </tr>\n    <tr>\n        <td>AsiaSat 8                                                                                                                       </td>\n    </tr>\n    <tr>\n        <td>Bangabandhu-1                                                                                                                   </td>\n    </tr>\n    <tr>\n        <td>Boeing X-37B OTV-5                                                                                                              </td>\n    </tr>\n    <tr>\n        <td>BulgariaSat-1                                                                                                                   </td>\n    </tr>\n    <tr>\n        <td>CASSIOPE                                                                                                                        </td>\n    </tr>\n    <tr>\n        <td>Crew Dragon Demo-1, SpaceX CRS-17                                                                                               </td>\n    </tr>\n    <tr>\n        <td>Crew Dragon Demo-2, Starlink 7 v1.0                                                                                             </td>\n    </tr>\n    <tr>\n        <td>Crew Dragon in-flight abort test, Starlink 3 v1.0                                                                               </td>\n    </tr>\n    <tr>\n        <td>Crew-1, Sentinel-6 Michael Freilich                                                                                             </td>\n    </tr>\n    <tr>\n        <td>DSCOVR                                                                                                                          </td>\n    </tr>\n    <tr>\n        <td>Dragon Spacecraft Qualification Unit                                                                                            </td>\n    </tr>\n    <tr>\n        <td>Dragon demo flight C1, two CubeSats, barrel of Brouere cheese                                                                   </td>\n    </tr>\n    <tr>\n        <td>Dragon demo flight C2                                                                                                           </td>\n    </tr>\n    <tr>\n        <td>EchoStar 23                                                                                                                     </td>\n    </tr>\n    <tr>\n        <td>Es hail 2                                                                                                                       </td>\n    </tr>\n    <tr>\n        <td>Formosat-5                                                                                                                      </td>\n    </tr>\n    <tr>\n        <td>GPS III-01                                                                                                                      </td>\n    </tr>\n    <tr>\n        <td>GPS III-03, ANASIS-II                                                                                                           </td>\n    </tr>\n    <tr>\n        <td>GPS III-04 , Crew-1                                                                                                             </td>\n    </tr>\n    <tr>\n        <td>GovSat-1 / SES-16                                                                                                               </td>\n    </tr>\n    <tr>\n        <td>Hispasat 30W-6  PODSat                                                                                                          </td>\n    </tr>\n    <tr>\n        <td>Inmarsat-5 F4                                                                                                                   </td>\n    </tr>\n    <tr>\n        <td>Intelsat 35e                                                                                                                    </td>\n    </tr>\n    <tr>\n        <td>Iridium NEXT 1                                                                                                                  </td>\n    </tr>\n    <tr>\n        <td>Iridium NEXT 2                                                                                                                  </td>\n    </tr>\n    <tr>\n        <td>Iridium NEXT 3                                                                                                                  </td>\n    </tr>\n    <tr>\n        <td>Iridium NEXT 4                                                                                                                  </td>\n    </tr>\n    <tr>\n        <td>Iridium NEXT 5                                                                                                                  </td>\n    </tr>\n    <tr>\n        <td>Iridium NEXT 6   GRACE-FO 1, 2                                                                                                  </td>\n    </tr>\n    <tr>\n        <td>Iridium NEXT-7                                                                                                                  </td>\n    </tr>\n    <tr>\n        <td>Iridium NEXT-8                                                                                                                  </td>\n    </tr>\n    <tr>\n        <td>JCSAT-14                                                                                                                        </td>\n    </tr>\n    <tr>\n        <td>JCSAT-16                                                                                                                        </td>\n    </tr>\n    <tr>\n        <td>JCSat-18 / Kacific 1, Starlink 2 v1.0                                                                                           </td>\n    </tr>\n    <tr>\n        <td>Jason-3                                                                                                                         </td>\n    </tr>\n    <tr>\n        <td>Koreasat 5A                                                                                                                     </td>\n    </tr>\n    <tr>\n        <td>Merah Putih                                                                                                                     </td>\n    </tr>\n    <tr>\n        <td>NROL-76                                                                                                                         </td>\n    </tr>\n    <tr>\n        <td>Nusantara Satu, Beresheet Moon lander, S5                                                                                       </td>\n    </tr>\n    <tr>\n        <td>OG2 Mission 1  6 Orbcomm-OG2 satellites                                                                                         </td>\n    </tr>\n    <tr>\n        <td>OG2 Mission 2  11 Orbcomm-OG2 satellites                                                                                        </td>\n    </tr>\n    <tr>\n        <td>Paz  Tintin A &amp; B                                                                                                               </td>\n    </tr>\n    <tr>\n        <td>RADARSAT Constellation, SpaceX CRS-18                                                                                           </td>\n    </tr>\n    <tr>\n        <td>SAOCOM 1A                                                                                                                       </td>\n    </tr>\n    <tr>\n        <td>SAOCOM 1B, GNOMES 1, Tyvak-0172                                                                                                 </td>\n    </tr>\n    <tr>\n        <td>SES-10                                                                                                                          </td>\n    </tr>\n    <tr>\n        <td>SES-11 / EchoStar 105                                                                                                           </td>\n    </tr>\n    <tr>\n        <td>SES-12                                                                                                                          </td>\n    </tr>\n    <tr>\n        <td>SES-8                                                                                                                           </td>\n    </tr>\n    <tr>\n        <td>SES-9                                                                                                                           </td>\n    </tr>\n    <tr>\n        <td>SSO-A                                                                                                                           </td>\n    </tr>\n    <tr>\n        <td>Sentinel-6 Michael Freilich, Starlink 15 v1.0                                                                                   </td>\n    </tr>\n    <tr>\n        <td>SpaceX CRS-1                                                                                                                    </td>\n    </tr>\n    <tr>\n        <td>SpaceX CRS-10                                                                                                                   </td>\n    </tr>\n    <tr>\n        <td>SpaceX CRS-11                                                                                                                   </td>\n    </tr>\n    <tr>\n        <td>SpaceX CRS-12                                                                                                                   </td>\n    </tr>\n    <tr>\n        <td>SpaceX CRS-13                                                                                                                   </td>\n    </tr>\n    <tr>\n        <td>SpaceX CRS-14                                                                                                                   </td>\n    </tr>\n    <tr>\n        <td>SpaceX CRS-15                                                                                                                   </td>\n    </tr>\n    <tr>\n        <td>SpaceX CRS-16                                                                                                                   </td>\n    </tr>\n    <tr>\n        <td>SpaceX CRS-17, Starlink v0.9                                                                                                    </td>\n    </tr>\n    <tr>\n        <td>SpaceX CRS-18, AMOS-17                                                                                                          </td>\n    </tr>\n    <tr>\n        <td>SpaceX CRS-19, JCSat-18 / Kacific 1                                                                                             </td>\n    </tr>\n    <tr>\n        <td>SpaceX CRS-2                                                                                                                    </td>\n    </tr>\n    <tr>\n        <td>SpaceX CRS-20, Starlink 5 v1.0                                                                                                  </td>\n    </tr>\n    <tr>\n        <td>SpaceX CRS-21                                                                                                                   </td>\n    </tr>\n    <tr>\n        <td>SpaceX CRS-3                                                                                                                    </td>\n    </tr>\n    <tr>\n        <td>SpaceX CRS-4                                                                                                                    </td>\n    </tr>\n    <tr>\n        <td>SpaceX CRS-5                                                                                                                    </td>\n    </tr>\n    <tr>\n        <td>SpaceX CRS-6                                                                                                                    </td>\n    </tr>\n    <tr>\n        <td>SpaceX CRS-7                                                                                                                    </td>\n    </tr>\n    <tr>\n        <td>SpaceX CRS-8                                                                                                                    </td>\n    </tr>\n    <tr>\n        <td>SpaceX CRS-9                                                                                                                    </td>\n    </tr>\n    <tr>\n        <td>Starlink 1 v1.0, SpaceX CRS-19                                                                                                  </td>\n    </tr>\n    <tr>\n        <td>Starlink 10 v1.0, SkySat-19, -20, -21, SAOCOM 1B                                                                                </td>\n    </tr>\n    <tr>\n        <td>Starlink 11 v1.0, Starlink 12 v1.0                                                                                              </td>\n    </tr>\n    <tr>\n        <td>Starlink 12 v1.0, Starlink 13 v1.0                                                                                              </td>\n    </tr>\n    <tr>\n        <td>Starlink 13 v1.0, Starlink 14 v1.0                                                                                              </td>\n    </tr>\n    <tr>\n        <td>Starlink 14 v1.0, GPS III-04                                                                                                    </td>\n    </tr>\n    <tr>\n        <td>Starlink 15 v1.0, SpaceX CRS-21                                                                                                 </td>\n    </tr>\n    <tr>\n        <td>Starlink 2 v1.0, Crew Dragon in-flight abort test                                                                               </td>\n    </tr>\n    <tr>\n        <td>Starlink 3 v1.0, Starlink 4 v1.0                                                                                                </td>\n    </tr>\n    <tr>\n        <td>Starlink 4 v1.0, SpaceX CRS-20                                                                                                  </td>\n    </tr>\n    <tr>\n        <td>Starlink 5 v1.0, Starlink 6 v1.0                                                                                                </td>\n    </tr>\n    <tr>\n        <td>Starlink 6 v1.0, Crew Dragon Demo-2                                                                                             </td>\n    </tr>\n    <tr>\n        <td>Starlink 7 v1.0, Starlink 8 v1.0                                                                                                </td>\n    </tr>\n    <tr>\n        <td>Starlink 8 v1.0, SkySats-16, -17, -18, GPS III-03                                                                               </td>\n    </tr>\n    <tr>\n        <td>Starlink 9 v1.0, SXRS-1, Starlink 10 v1.0                                                                                       </td>\n    </tr>\n    <tr>\n        <td>Starlink v0.9, RADARSAT Constellation                                                                                           </td>\n    </tr>\n    <tr>\n        <td>Telstar 18V / Apstar-5C                                                                                                         </td>\n    </tr>\n    <tr>\n        <td>Telstar 19V                                                                                                                     </td>\n    </tr>\n    <tr>\n        <td>Thaicom 6                                                                                                                       </td>\n    </tr>\n    <tr>\n        <td>Thaicom 8                                                                                                                       </td>\n    </tr>\n    <tr>\n        <td>Transiting Exoplanet Survey Satellite (TESS)                                                                                    </td>\n    </tr>\n    <tr>\n        <td>Turkmen 52 / MonacoSAT                                                                                                          </td>\n    </tr>\n    <tr>\n        <td>Zuma                                                                                                                            </td>\n    </tr>\n</table>",
                        "text/plain": "[('ABS-2A Eutelsat 117 West B                                                                                                      ',),\n ('ABS-3A Eutelsat 115 West B                                                                                                      ',),\n ('AMOS-17, Starlink 1 v1.0                                                                                                        ',),\n ('ANASIS-II, Starlink 9 v1.0                                                                                                      ',),\n ('AsiaSat 6                                                                                                                       ',),\n ('AsiaSat 8                                                                                                                       ',),\n ('Bangabandhu-1                                                                                                                   ',),\n ('Boeing X-37B OTV-5                                                                                                              ',),\n ('BulgariaSat-1                                                                                                                   ',),\n ('CASSIOPE                                                                                                                        ',),\n ('Crew Dragon Demo-1, SpaceX CRS-17                                                                                               ',),\n ('Crew Dragon Demo-2, Starlink 7 v1.0                                                                                             ',),\n ('Crew Dragon in-flight abort test, Starlink 3 v1.0                                                                               ',),\n ('Crew-1, Sentinel-6 Michael Freilich                                                                                             ',),\n ('DSCOVR                                                                                                                          ',),\n ('Dragon Spacecraft Qualification Unit                                                                                            ',),\n ('Dragon demo flight C1, two CubeSats, barrel of Brouere cheese                                                                   ',),\n ('Dragon demo flight C2                                                                                                           ',),\n ('EchoStar 23                                                                                                                     ',),\n ('Es hail 2                                                                                                                       ',),\n ('Formosat-5                                                                                                                      ',),\n ('GPS III-01                                                                                                                      ',),\n ('GPS III-03, ANASIS-II                                                                                                           ',),\n ('GPS III-04 , Crew-1                                                                                                             ',),\n ('GovSat-1 / SES-16                                                                                                               ',),\n ('Hispasat 30W-6  PODSat                                                                                                          ',),\n ('Inmarsat-5 F4                                                                                                                   ',),\n ('Intelsat 35e                                                                                                                    ',),\n ('Iridium NEXT 1                                                                                                                  ',),\n ('Iridium NEXT 2                                                                                                                  ',),\n ('Iridium NEXT 3                                                                                                                  ',),\n ('Iridium NEXT 4                                                                                                                  ',),\n ('Iridium NEXT 5                                                                                                                  ',),\n ('Iridium NEXT 6   GRACE-FO 1, 2                                                                                                  ',),\n ('Iridium NEXT-7                                                                                                                  ',),\n ('Iridium NEXT-8                                                                                                                  ',),\n ('JCSAT-14                                                                                                                        ',),\n ('JCSAT-16                                                                                                                        ',),\n ('JCSat-18 / Kacific 1, Starlink 2 v1.0                                                                                           ',),\n ('Jason-3                                                                                                                         ',),\n ('Koreasat 5A                                                                                                                     ',),\n ('Merah Putih                                                                                                                     ',),\n ('NROL-76                                                                                                                         ',),\n ('Nusantara Satu, Beresheet Moon lander, S5                                                                                       ',),\n ('OG2 Mission 1  6 Orbcomm-OG2 satellites                                                                                         ',),\n ('OG2 Mission 2  11 Orbcomm-OG2 satellites                                                                                        ',),\n ('Paz  Tintin A & B                                                                                                               ',),\n ('RADARSAT Constellation, SpaceX CRS-18                                                                                           ',),\n ('SAOCOM 1A                                                                                                                       ',),\n ('SAOCOM 1B, GNOMES 1, Tyvak-0172                                                                                                 ',),\n ('SES-10                                                                                                                          ',),\n ('SES-11 / EchoStar 105                                                                                                           ',),\n ('SES-12                                                                                                                          ',),\n ('SES-8                                                                                                                           ',),\n ('SES-9                                                                                                                           ',),\n ('SSO-A                                                                                                                           ',),\n ('Sentinel-6 Michael Freilich, Starlink 15 v1.0                                                                                   ',),\n ('SpaceX CRS-1                                                                                                                    ',),\n ('SpaceX CRS-10                                                                                                                   ',),\n ('SpaceX CRS-11                                                                                                                   ',),\n ('SpaceX CRS-12                                                                                                                   ',),\n ('SpaceX CRS-13                                                                                                                   ',),\n ('SpaceX CRS-14                                                                                                                   ',),\n ('SpaceX CRS-15                                                                                                                   ',),\n ('SpaceX CRS-16                                                                                                                   ',),\n ('SpaceX CRS-17, Starlink v0.9                                                                                                    ',),\n ('SpaceX CRS-18, AMOS-17                                                                                                          ',),\n ('SpaceX CRS-19, JCSat-18 / Kacific 1                                                                                             ',),\n ('SpaceX CRS-2                                                                                                                    ',),\n ('SpaceX CRS-20, Starlink 5 v1.0                                                                                                  ',),\n ('SpaceX CRS-21                                                                                                                   ',),\n ('SpaceX CRS-3                                                                                                                    ',),\n ('SpaceX CRS-4                                                                                                                    ',),\n ('SpaceX CRS-5                                                                                                                    ',),\n ('SpaceX CRS-6                                                                                                                    ',),\n ('SpaceX CRS-7                                                                                                                    ',),\n ('SpaceX CRS-8                                                                                                                    ',),\n ('SpaceX CRS-9                                                                                                                    ',),\n ('Starlink 1 v1.0, SpaceX CRS-19                                                                                                  ',),\n ('Starlink 10 v1.0, SkySat-19, -20, -21, SAOCOM 1B                                                                                ',),\n ('Starlink 11 v1.0, Starlink 12 v1.0                                                                                              ',),\n ('Starlink 12 v1.0, Starlink 13 v1.0                                                                                              ',),\n ('Starlink 13 v1.0, Starlink 14 v1.0                                                                                              ',),\n ('Starlink 14 v1.0, GPS III-04                                                                                                    ',),\n ('Starlink 15 v1.0, SpaceX CRS-21                                                                                                 ',),\n ('Starlink 2 v1.0, Crew Dragon in-flight abort test                                                                               ',),\n ('Starlink 3 v1.0, Starlink 4 v1.0                                                                                                ',),\n ('Starlink 4 v1.0, SpaceX CRS-20                                                                                                  ',),\n ('Starlink 5 v1.0, Starlink 6 v1.0                                                                                                ',),\n ('Starlink 6 v1.0, Crew Dragon Demo-2                                                                                             ',),\n ('Starlink 7 v1.0, Starlink 8 v1.0                                                                                                ',),\n ('Starlink 8 v1.0, SkySats-16, -17, -18, GPS III-03                                                                               ',),\n ('Starlink 9 v1.0, SXRS-1, Starlink 10 v1.0                                                                                       ',),\n ('Starlink v0.9, RADARSAT Constellation                                                                                           ',),\n ('Telstar 18V / Apstar-5C                                                                                                         ',),\n ('Telstar 19V                                                                                                                     ',),\n ('Thaicom 6                                                                                                                       ',),\n ('Thaicom 8                                                                                                                       ',),\n ('Transiting Exoplanet Survey Satellite (TESS)                                                                                    ',),\n ('Turkmen 52 / MonacoSAT                                                                                                          ',),\n ('Zuma                                                                                                                            ',)]"
                    },
                    "execution_count": 30,
                    "metadata": {},
                    "output_type": "execute_result"
                }
            ],
            "source": "# %%sql \n# select distinct(payload) from spacex;"
        },
        {
            "cell_type": "code",
            "execution_count": 31,
            "metadata": {},
            "outputs": [
                {
                    "name": "stdout",
                    "output_type": "stream",
                    "text": " * ibm_db_sa://gfv66900:***@0c77d6f2-5da9-48a9-81f8-86b520b87518.bs2io90l08kqb1od8lcg.databases.appdomain.cloud:31198/bludb\nDone.\n"
                },
                {
                    "data": {
                        "text/html": "<table>\n    <tr>\n        <th>orbit</th>\n    </tr>\n    <tr>\n        <td>GTO</td>\n    </tr>\n    <tr>\n        <td>HEO</td>\n    </tr>\n    <tr>\n        <td>LEO</td>\n    </tr>\n    <tr>\n        <td>LEO (ISS)</td>\n    </tr>\n    <tr>\n        <td>MEO</td>\n    </tr>\n    <tr>\n        <td>Polar LEO</td>\n    </tr>\n    <tr>\n        <td>SSO</td>\n    </tr>\n    <tr>\n        <td>Sub-orbital</td>\n    </tr>\n</table>",
                        "text/plain": "[('GTO',),\n ('HEO',),\n ('LEO',),\n ('LEO (ISS)',),\n ('MEO',),\n ('Polar LEO',),\n ('SSO',),\n ('Sub-orbital',)]"
                    },
                    "execution_count": 31,
                    "metadata": {},
                    "output_type": "execute_result"
                }
            ],
            "source": "# %%sql \n# select distinct(orbit) from spacex;"
        },
        {
            "cell_type": "code",
            "execution_count": 32,
            "metadata": {},
            "outputs": [
                {
                    "name": "stdout",
                    "output_type": "stream",
                    "text": " * ibm_db_sa://gfv66900:***@0c77d6f2-5da9-48a9-81f8-86b520b87518.bs2io90l08kqb1od8lcg.databases.appdomain.cloud:31198/bludb\nDone.\n"
                },
                {
                    "data": {
                        "text/html": "<table>\n    <tr>\n        <th>customer</th>\n    </tr>\n    <tr>\n        <td>ABS Eutelsat</td>\n    </tr>\n    <tr>\n        <td>AsiaSat</td>\n    </tr>\n    <tr>\n        <td>Bulsatcom</td>\n    </tr>\n    <tr>\n        <td>CONAE</td>\n    </tr>\n    <tr>\n        <td>CONAE, PlanetIQ, SpaceX</td>\n    </tr>\n    <tr>\n        <td>Canadian Space Agency (CSA)</td>\n    </tr>\n    <tr>\n        <td>EchoStar</td>\n    </tr>\n    <tr>\n        <td>Es hailSat</td>\n    </tr>\n    <tr>\n        <td>Hisdesat exactEarth SpaceX</td>\n    </tr>\n    <tr>\n        <td>Hispasat  NovaWurks</td>\n    </tr>\n    <tr>\n        <td>Inmarsat</td>\n    </tr>\n    <tr>\n        <td>Intelsat</td>\n    </tr>\n    <tr>\n        <td>Iridium Communications</td>\n    </tr>\n    <tr>\n        <td>Iridium Communications GFZ \u201a NASA</td>\n    </tr>\n    <tr>\n        <td>KT Corporation</td>\n    </tr>\n    <tr>\n        <td>MDA</td>\n    </tr>\n    <tr>\n        <td>NASA (CCD)</td>\n    </tr>\n    <tr>\n        <td>NASA (CCDev)</td>\n    </tr>\n    <tr>\n        <td>NASA (CCP)</td>\n    </tr>\n    <tr>\n        <td>NASA (COTS)</td>\n    </tr>\n    <tr>\n        <td>NASA (COTS) NRO</td>\n    </tr>\n    <tr>\n        <td>NASA (CRS)</td>\n    </tr>\n    <tr>\n        <td>NASA (CRS), Kacific 1</td>\n    </tr>\n    <tr>\n        <td>NASA (CTS)</td>\n    </tr>\n    <tr>\n        <td>NASA (LSP)</td>\n    </tr>\n    <tr>\n        <td>NASA (LSP) NOAA CNES</td>\n    </tr>\n    <tr>\n        <td>NASA / NOAA / ESA / EUMETSAT</td>\n    </tr>\n    <tr>\n        <td>NRO</td>\n    </tr>\n    <tr>\n        <td>NSPO</td>\n    </tr>\n    <tr>\n        <td>Northrop Grumman</td>\n    </tr>\n    <tr>\n        <td>Orbcomm</td>\n    </tr>\n    <tr>\n        <td>PSN, SpaceIL / IAI</td>\n    </tr>\n    <tr>\n        <td>Republic of Korea Army, Spaceflight Industries (BlackSky)</td>\n    </tr>\n    <tr>\n        <td>SES</td>\n    </tr>\n    <tr>\n        <td>SES EchoStar</td>\n    </tr>\n    <tr>\n        <td>SKY Perfect JSAT Group</td>\n    </tr>\n    <tr>\n        <td>Sky Perfect JSAT, Kacific 1</td>\n    </tr>\n    <tr>\n        <td>SpaceX</td>\n    </tr>\n    <tr>\n        <td>SpaceX, Planet Labs</td>\n    </tr>\n    <tr>\n        <td>SpaceX, Planet Labs, PlanetIQ</td>\n    </tr>\n    <tr>\n        <td>SpaceX, Spaceflight Industries (BlackSky), Planet Labs</td>\n    </tr>\n    <tr>\n        <td>Spacecom</td>\n    </tr>\n    <tr>\n        <td>Spaceflight Industries</td>\n    </tr>\n    <tr>\n        <td>Telesat</td>\n    </tr>\n    <tr>\n        <td>Telkom Indonesia</td>\n    </tr>\n    <tr>\n        <td>Thaicom</td>\n    </tr>\n    <tr>\n        <td>Thales-Alenia/BTRC</td>\n    </tr>\n    <tr>\n        <td>Turkmenistan National Space Agency</td>\n    </tr>\n    <tr>\n        <td>U.S. Air Force</td>\n    </tr>\n    <tr>\n        <td>U.S. Air Force NASA NOAA</td>\n    </tr>\n    <tr>\n        <td>U.S. Space Force</td>\n    </tr>\n    <tr>\n        <td>USAF</td>\n    </tr>\n    <tr>\n        <td>USSF</td>\n    </tr>\n</table>",
                        "text/plain": "[('ABS Eutelsat',),\n ('AsiaSat',),\n ('Bulsatcom',),\n ('CONAE',),\n ('CONAE, PlanetIQ, SpaceX',),\n ('Canadian Space Agency (CSA)',),\n ('EchoStar',),\n ('Es hailSat',),\n ('Hisdesat exactEarth SpaceX',),\n ('Hispasat  NovaWurks',),\n ('Inmarsat',),\n ('Intelsat',),\n ('Iridium Communications',),\n ('Iridium Communications GFZ \u201a NASA',),\n ('KT Corporation',),\n ('MDA',),\n ('NASA (CCD)',),\n ('NASA (CCDev)',),\n ('NASA (CCP)',),\n ('NASA (COTS)',),\n ('NASA (COTS) NRO',),\n ('NASA (CRS)',),\n ('NASA (CRS), Kacific 1',),\n ('NASA (CTS)',),\n ('NASA (LSP)',),\n ('NASA (LSP) NOAA CNES',),\n ('NASA / NOAA / ESA / EUMETSAT',),\n ('NRO',),\n ('NSPO',),\n ('Northrop Grumman',),\n ('Orbcomm',),\n ('PSN, SpaceIL / IAI',),\n ('Republic of Korea Army, Spaceflight Industries (BlackSky)',),\n ('SES',),\n ('SES EchoStar',),\n ('SKY Perfect JSAT Group',),\n ('Sky Perfect JSAT, Kacific 1',),\n ('SpaceX',),\n ('SpaceX, Planet Labs',),\n ('SpaceX, Planet Labs, PlanetIQ',),\n ('SpaceX, Spaceflight Industries (BlackSky), Planet Labs',),\n ('Spacecom',),\n ('Spaceflight Industries',),\n ('Telesat',),\n ('Telkom Indonesia',),\n ('Thaicom',),\n ('Thales-Alenia/BTRC',),\n ('Turkmenistan National Space Agency',),\n ('U.S. Air Force',),\n ('U.S. Air Force NASA NOAA',),\n ('U.S. Space Force',),\n ('USAF',),\n ('USSF',)]"
                    },
                    "execution_count": 32,
                    "metadata": {},
                    "output_type": "execute_result"
                }
            ],
            "source": "# %%sql \n# select distinct(customer) from spacex;"
        },
        {
            "cell_type": "code",
            "execution_count": 33,
            "metadata": {},
            "outputs": [
                {
                    "name": "stdout",
                    "output_type": "stream",
                    "text": " * ibm_db_sa://gfv66900:***@0c77d6f2-5da9-48a9-81f8-86b520b87518.bs2io90l08kqb1od8lcg.databases.appdomain.cloud:31198/bludb\nDone.\n"
                },
                {
                    "data": {
                        "text/html": "<table>\n    <tr>\n        <th>mission_outcome</th>\n    </tr>\n    <tr>\n        <td>Failure (in flight)</td>\n    </tr>\n    <tr>\n        <td>Success</td>\n    </tr>\n    <tr>\n        <td>Success (payload status unclear)</td>\n    </tr>\n</table>",
                        "text/plain": "[('Failure (in flight)',), ('Success',), ('Success (payload status unclear)',)]"
                    },
                    "execution_count": 33,
                    "metadata": {},
                    "output_type": "execute_result"
                }
            ],
            "source": "# %%sql \n# select distinct(mission_outcome) from spacex;"
        },
        {
            "cell_type": "code",
            "execution_count": 34,
            "metadata": {},
            "outputs": [
                {
                    "name": "stdout",
                    "output_type": "stream",
                    "text": " * ibm_db_sa://gfv66900:***@0c77d6f2-5da9-48a9-81f8-86b520b87518.bs2io90l08kqb1od8lcg.databases.appdomain.cloud:31198/bludb\nDone.\n"
                },
                {
                    "data": {
                        "text/html": "<table>\n    <tr>\n        <th>landing__outcome</th>\n    </tr>\n    <tr>\n        <td>Controlled (ocean)</td>\n    </tr>\n    <tr>\n        <td>Failure</td>\n    </tr>\n    <tr>\n        <td>Failure (drone ship)</td>\n    </tr>\n    <tr>\n        <td>Failure (parachute)</td>\n    </tr>\n    <tr>\n        <td>No attempt</td>\n    </tr>\n    <tr>\n        <td>Precluded (drone ship)</td>\n    </tr>\n    <tr>\n        <td>Success</td>\n    </tr>\n    <tr>\n        <td>Success (drone ship)</td>\n    </tr>\n    <tr>\n        <td>Success (ground pad)</td>\n    </tr>\n    <tr>\n        <td>Uncontrolled (ocean)</td>\n    </tr>\n</table>",
                        "text/plain": "[('Controlled (ocean)',),\n ('Failure',),\n ('Failure (drone ship)',),\n ('Failure (parachute)',),\n ('No attempt',),\n ('Precluded (drone ship)',),\n ('Success',),\n ('Success (drone ship)',),\n ('Success (ground pad)',),\n ('Uncontrolled (ocean)',)]"
                    },
                    "execution_count": 34,
                    "metadata": {},
                    "output_type": "execute_result"
                }
            ],
            "source": "# %%sql \n# select distinct(landing__outcome) from spacex;"
        },
        {
            "cell_type": "markdown",
            "metadata": {},
            "source": "### Reference Links\n\n*   <a href =\"https://cf-courses-data.s3.us.cloud-object-storage.appdomain.cloud/IBMDeveloperSkillsNetwork-DB0201EN-SkillsNetwork/labs/Labs_Coursera_V5/labs/Lab%20-%20String%20Patterns%20-%20Sorting%20-%20Grouping/instructional-labs.md.html?utm_medium=Exinfluencer&utm_source=Exinfluencer&utm_content=000026UJ&utm_term=10006555&utm_id=NA-SkillsNetwork-Channel-SkillsNetworkCoursesIBMDS0321ENSkillsNetwork26802033-2021-01-01&origin=www.coursera.org\">Hands-on Lab : String Patterns, Sorting and Grouping</a>\n\n*   <a  href=\"https://cf-courses-data.s3.us.cloud-object-storage.appdomain.cloud/IBMDeveloperSkillsNetwork-DB0201EN-SkillsNetwork/labs/Labs_Coursera_V5/labs/Lab%20-%20Built-in%20functions%20/Hands-on_Lab__Built-in_Functions.md.html?utm_medium=Exinfluencer&utm_source=Exinfluencer&utm_content=000026UJ&utm_term=10006555&utm_id=NA-SkillsNetwork-Channel-SkillsNetworkCoursesIBMDS0321ENSkillsNetwork26802033-2021-01-01&origin=www.coursera.org\">Hands-on Lab: Built-in functions</a>\n\n*   <a  href=\"https://cf-courses-data.s3.us.cloud-object-storage.appdomain.cloud/IBMDeveloperSkillsNetwork-DB0201EN-SkillsNetwork/labs/Labs_Coursera_V5/labs/Lab%20-%20Sub-queries%20and%20Nested%20SELECTs%20/instructional-labs.md.html?utm_medium=Exinfluencer&utm_source=Exinfluencer&utm_content=000026UJ&utm_term=10006555&utm_id=NA-SkillsNetwork-Channel-SkillsNetworkCoursesIBMDS0321ENSkillsNetwork26802033-2021-01-01&origin=www.coursera.org\">Hands-on Lab : Sub-queries and Nested SELECT Statements</a>\n\n*   <a href=\"https://cf-courses-data.s3.us.cloud-object-storage.appdomain.cloud/IBMDeveloperSkillsNetwork-DB0201EN-SkillsNetwork/labs/Module%205/DB0201EN-Week3-1-3-SQLmagic.ipynb?utm_medium=Exinfluencer&utm_source=Exinfluencer&utm_content=000026UJ&utm_term=10006555&utm_id=NA-SkillsNetwork-Channel-SkillsNetworkCoursesIBMDS0321ENSkillsNetwork26802033-2021-01-01\">Hands-on Tutorial: Accessing Databases with SQL magic</a>\n\n*   <a href= \"https://cf-courses-data.s3.us.cloud-object-storage.appdomain.cloud/IBMDeveloperSkillsNetwork-DB0201EN-SkillsNetwork/labs/Module%205/DB0201EN-Week3-1-4-Analyzing.ipynb?utm_medium=Exinfluencer&utm_source=Exinfluencer&utm_content=000026UJ&utm_term=10006555&utm_id=NA-SkillsNetwork-Channel-SkillsNetworkCoursesIBMDS0321ENSkillsNetwork26802033-2021-01-01\">Hands-on Lab: Analyzing a real World Data Set</a>\n"
        },
        {
            "cell_type": "markdown",
            "metadata": {},
            "source": "## Author(s)\n\n<h4> Lakshmi Holla </h4>\n"
        },
        {
            "cell_type": "markdown",
            "metadata": {},
            "source": "## Other Contributors\n\n<h4> Rav Ahuja </h4>\n"
        },
        {
            "cell_type": "markdown",
            "metadata": {},
            "source": "## Change log\n\n| Date       | Version | Changed by    | Change Description        |\n| ---------- | ------- | ------------- | ------------------------- |\n| 2021-07-09 | 0.2     | Lakshmi Holla | Changes made in magic sql |\n| 2021-05-20 | 0.1     | Lakshmi Holla | Created Initial Version   |\n"
        },
        {
            "cell_type": "markdown",
            "metadata": {},
            "source": "## <h3 align=\"center\"> \u00a9 IBM Corporation 2021. All rights reserved. <h3/>\n"
        }
    ],
    "metadata": {
        "kernelspec": {
            "display_name": "Python 3.8",
            "language": "python",
            "name": "python3"
        },
        "language_info": {
            "codemirror_mode": {
                "name": "ipython",
                "version": 3
            },
            "file_extension": ".py",
            "mimetype": "text/x-python",
            "name": "python",
            "nbconvert_exporter": "python",
            "pygments_lexer": "ipython3",
            "version": "3.8.11"
        }
    },
    "nbformat": 4,
    "nbformat_minor": 4
}